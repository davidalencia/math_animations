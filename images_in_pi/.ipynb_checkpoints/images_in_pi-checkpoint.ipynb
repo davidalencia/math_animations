{
 "cells": [
  {
   "cell_type": "code",
   "execution_count": 1,
   "id": "8cd0ce79",
   "metadata": {},
   "outputs": [],
   "source": [
    "using Images\n",
    "using ResumableFunctions\n",
    "using Interpolations\n",
    "import ImageMagick\n",
    "using Images\n",
    "using VideoIO\n",
    "using FreeTypeAbstraction\n",
    "using ProgressMeter\n",
    "import Humanize: digitsep"
   ]
  },
  {
   "cell_type": "code",
   "execution_count": 2,
   "id": "2a9d0922",
   "metadata": {},
   "outputs": [
    {
     "data": {
      "image/svg+xml": [
       "<?xml version=\"1.0\" encoding=\"UTF-8\"?>\n",
       "<!DOCTYPE svg PUBLIC \"-//W3C//DTD SVG 1.1//EN\"\n",
       " \"http://www.w3.org/Graphics/SVG/1.1/DTD/svg11.dtd\">\n",
       "<svg xmlns=\"http://www.w3.org/2000/svg\" version=\"1.1\"\n",
       "     width=\"25mm\" height=\"25mm\" viewBox=\"0 0 1 1\">\n",
       "    <rect width=\"1\" height=\"1\" fill=\"#4F94CD\" stroke=\"none\"/>\n",
       "</svg>\n"
      ],
      "text/plain": [
       "RGB{N0f8}(0.31,0.58,0.804)"
      ]
     },
     "execution_count": 2,
     "metadata": {},
     "output_type": "execute_result"
    }
   ],
   "source": [
    "const char2digits = Dict('0'=>(0,0,0),\n",
    "    '1'=>(0,0,1),\n",
    "    '2'=>(0,1,0),\n",
    "    '3'=>(0,1,1),\n",
    "    '4'=>(1,0,0),\n",
    "    '5'=>(1,0,1),\n",
    "    '6'=>(1,1,0),\n",
    "    '7'=>(1,1,1),\n",
    "    '8'=>(0,0,1),\n",
    "    '9'=>(1,0,0,1))\n",
    "const on_color = colorant\"lightsteelblue\"\n",
    "const off_color = colorant\"steelblue3\""
   ]
  },
  {
   "cell_type": "code",
   "execution_count": 3,
   "id": "4053b2ae",
   "metadata": {},
   "outputs": [
    {
     "data": {
      "text/plain": [
       "FTFont (family = Open Sans, style = Bold)"
      ]
     },
     "execution_count": 3,
     "metadata": {},
     "output_type": "execute_result"
    }
   ],
   "source": [
    "face = FTFont(\"OpenSans-Bold.ttf\")"
   ]
  },
  {
   "cell_type": "code",
   "execution_count": 11,
   "id": "e0f4682a",
   "metadata": {},
   "outputs": [
    {
     "data": {
      "text/plain": [
       "block2img (generic function with 1 method)"
      ]
     },
     "execution_count": 11,
     "metadata": {},
     "output_type": "execute_result"
    }
   ],
   "source": [
    "function block2img(block, dim::Tuple{Int, Int})\n",
    "    img = zeros(RGB{N0f8}, dim...)\n",
    "    len = *(dim...)\n",
    "    i = 1\n",
    "    j = 1\n",
    "    while i<len\n",
    "        digits = RGB{N0f8}.(char2digits[block[j]])\n",
    "        j+=1\n",
    "        maxsize = min(size(digits,1), len-i)\n",
    "        digits = digits[1:maxsize]\n",
    "        img[i:i+maxsize-1] .= digits\n",
    "        i+=maxsize\n",
    "    end\n",
    "    return img\n",
    "end"
   ]
  },
  {
   "cell_type": "code",
   "execution_count": 5,
   "id": "2e51b040",
   "metadata": {},
   "outputs": [
    {
     "data": {
      "text/plain": [
       "text2image (generic function with 1 method)"
      ]
     },
     "execution_count": 5,
     "metadata": {},
     "output_type": "execute_result"
    }
   ],
   "source": [
    "function text2image(text;x=50)\n",
    "    image = zeros(RGB{N0f8}, 20, 200)\n",
    "    renderstring!(image, text, face, 12, 10, 100, halign=:hcenter, valign=:vcenter)\n",
    "    return image\n",
    "end"
   ]
  },
  {
   "cell_type": "code",
   "execution_count": 6,
   "id": "5a2a2eab",
   "metadata": {},
   "outputs": [
    {
     "data": {
      "text/plain": [
       "fileReader (generic function with 1 method)"
      ]
     },
     "execution_count": 6,
     "metadata": {},
     "output_type": "execute_result"
    }
   ],
   "source": [
    "@resumable function fileReader()\n",
    "    file = open(\"pi-million.txt\",\"r\")\n",
    "    while !eof(file)\n",
    "        @yield read(file, Char)\n",
    "    end\n",
    "    close(file)\n",
    "end"
   ]
  },
  {
   "cell_type": "code",
   "execution_count": 7,
   "id": "d83af9f9",
   "metadata": {},
   "outputs": [
    {
     "data": {
      "text/plain": [
       "style (generic function with 1 method)"
      ]
     },
     "execution_count": 7,
     "metadata": {},
     "output_type": "execute_result"
    }
   ],
   "source": [
    "function style(img::Matrix{RGB{N0f8}})\n",
    "    colored = copy(img)\n",
    "    black = colorant\"black\"\n",
    "    white = colorant\"white\"\n",
    "    for ix in LinearIndices(colored)\n",
    "        if(colored[ix]==black)\n",
    "            colored[ix] = off_color\n",
    "        else\n",
    "            colored[ix] = on_color\n",
    "        end\n",
    "    end\n",
    "    return imresize(colored, (200, 200), method=BSpline(Constant()))\n",
    "end"
   ]
  },
  {
   "cell_type": "code",
   "execution_count": 24,
   "id": "2d9dcb21",
   "metadata": {},
   "outputs": [
    {
     "data": {
      "text/plain": [
       "search (generic function with 2 methods)"
      ]
     },
     "execution_count": 24,
     "metadata": {},
     "output_type": "execute_result"
    }
   ],
   "source": [
    "function search(img::Matrix{RGB{N0f8}}, title=\"video\")\n",
    "    function styleNtext(img::Matrix{RGB{N0f8}}, chars, ix)\n",
    "        return vcat(text2image(\"...$(String(chars))...   #$(digitsep(ix))\"), style(img))\n",
    "    end\n",
    "    len = *(size(img)...)\n",
    "    charlen = convert(Int, ceil(len/3))\n",
    "    iter = fileReader()\n",
    "    chars = [iter() for _ in 1:charlen]\n",
    "    i = 1\n",
    "    value = block2img(chars,size(img))\n",
    "    p = Progress(1_000_000, 1) \n",
    "    encoder_options = (crf=23, preset=\"medium\")\n",
    "    framerate=24\n",
    "    open_video_out(\"$title.mp4\", styleNtext(value, vcat(['3','.'],chars), i), framerate=framerate, encoder_options=encoder_options) do writer\n",
    "        while true\n",
    "            value = block2img(chars,size(img))\n",
    "            write(writer, styleNtext(value, chars, i))\n",
    "            i += 1\n",
    "            if(value == img)\n",
    "                break;\n",
    "            end\n",
    "            popfirst!(chars)\n",
    "            newchar = iter()\n",
    "            if(isnothing(newchar)) \n",
    "                return \"supersad\"\n",
    "            end\n",
    "            push!(chars, newchar)\n",
    "            next!(p)\n",
    "        end\n",
    "        lastblock =styleNtext(value, chars, i)\n",
    "        for _ in 1:50\n",
    "            write(writer, lastblock)\n",
    "        end\n",
    "    end\n",
    "end"
   ]
  },
  {
   "cell_type": "code",
   "execution_count": 9,
   "id": "4a68a567",
   "metadata": {},
   "outputs": [
    {
     "data": {
      "image/png": "[encoded data removed]",
      "text/plain": [
       "3×3 Array{RGB{N0f8},2} with eltype RGB{N0f8}:\n",
       " RGB{N0f8}(0.0,0.0,0.0)  RGB{N0f8}(0.0,0.0,0.0)  RGB{N0f8}(0.0,0.0,0.0)\n",
       " RGB{N0f8}(1.0,1.0,1.0)  RGB{N0f8}(0.0,0.0,0.0)  RGB{N0f8}(1.0,1.0,1.0)\n",
       " RGB{N0f8}(0.0,0.0,0.0)  RGB{N0f8}(0.0,0.0,0.0)  RGB{N0f8}(0.0,0.0,0.0)"
      ]
     },
     "execution_count": 9,
     "metadata": {},
     "output_type": "execute_result"
    }
   ],
   "source": [
    "finding = RGB.([0 0 0;\n",
    "     1 0 1;\n",
    "     0 0 0])"
   ]
  },
  {
   "cell_type": "code",
   "execution_count": 25,
   "id": "b34ecb0a",
   "metadata": {},
   "outputs": [
    {
     "data": {
      "image/png": "[encoded data removed]",
      "text/plain": [
       "3×4 Array{RGB{N0f8},2} with eltype RGB{N0f8}:\n",
       " RGB{N0f8}(0.0,0.0,0.0)  RGB{N0f8}(0.0,0.0,0.0)  …  RGB{N0f8}(0.0,0.0,0.0)\n",
       " RGB{N0f8}(1.0,1.0,1.0)  RGB{N0f8}(0.0,0.0,0.0)     RGB{N0f8}(0.0,0.0,0.0)\n",
       " RGB{N0f8}(1.0,1.0,1.0)  RGB{N0f8}(0.0,0.0,0.0)     RGB{N0f8}(0.0,0.0,0.0)"
      ]
     },
     "execution_count": 25,
     "metadata": {},
     "output_type": "execute_result"
    }
   ],
   "source": [
    "piM = RGB.([\n",
    "     0 0 0 0;\n",
    "     1 0 1 0;\n",
    "     1 0 1 0;])"
   ]
  },
  {
   "cell_type": "code",
   "execution_count": 28,
   "id": "0b76d017",
   "metadata": {},
   "outputs": [
    {
     "data": {
      "image/png": "[encoded data removed]",
      "text/plain": [
       "4×4 Array{RGB{N0f8},2} with eltype RGB{N0f8}:\n",
       " RGB{N0f8}(1.0,1.0,1.0)  RGB{N0f8}(0.0,0.0,0.0)  …  RGB{N0f8}(0.0,0.0,0.0)\n",
       " RGB{N0f8}(0.0,0.0,0.0)  RGB{N0f8}(0.0,0.0,0.0)     RGB{N0f8}(1.0,1.0,1.0)\n",
       " RGB{N0f8}(0.0,0.0,0.0)  RGB{N0f8}(0.0,0.0,0.0)     RGB{N0f8}(0.0,0.0,0.0)\n",
       " RGB{N0f8}(1.0,1.0,1.0)  RGB{N0f8}(0.0,0.0,0.0)     RGB{N0f8}(0.0,0.0,0.0)"
      ]
     },
     "execution_count": 28,
     "metadata": {},
     "output_type": "execute_result"
    }
   ],
   "source": [
    "amongus = RGB.(\n",
    "    [1 0 0 0 \n",
    "     0 0 1 1;\n",
    "     0 0 0 0;\n",
    "     1 0 1 0;])"
   ]
  },
  {
   "cell_type": "code",
   "execution_count": 31,
   "id": "06e1be71",
   "metadata": {},
   "outputs": [
    {
     "name": "stderr",
     "output_type": "stream",
     "text": [
      "\u001b[32mProgress:   4%|█▊                                       |  ETA: 0:14:09\u001b[39m"
     ]
    }
   ],
   "source": [
    "search(amongus, \"amongus\")"
   ]
  }
 ],
 "metadata": {
  "@webio": {
   "lastCommId": null,
   "lastKernelId": null
  },
  "kernelspec": {
   "display_name": "Julia 1.7.2",
   "language": "julia",
   "name": "julia-1.7"
  },
  "language_info": {
   "file_extension": ".jl",
   "mimetype": "application/julia",
   "name": "julia",
   "version": "1.7.2"
  }
 },
 "nbformat": 4,
 "nbformat_minor": 5
}
