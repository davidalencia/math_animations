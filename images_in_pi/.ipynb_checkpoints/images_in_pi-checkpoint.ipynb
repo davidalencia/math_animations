{
 "cells": [
  {
   "cell_type": "code",
   "execution_count": 1,
   "id": "8cd0ce79",
   "metadata": {},
   "outputs": [],
   "source": [
    "using Images\n",
    "using ResumableFunctions\n",
    "using Interpolations\n",
    "import ImageMagick\n",
    "using Images"
   ]
  },
  {
   "cell_type": "code",
   "execution_count": 2,
   "id": "2a9d0922",
   "metadata": {},
   "outputs": [
    {
     "data": {
      "image/svg+xml": [
       "<?xml version=\"1.0\" encoding=\"UTF-8\"?>\n",
       "<!DOCTYPE svg PUBLIC \"-//W3C//DTD SVG 1.1//EN\"\n",
       " \"http://www.w3.org/Graphics/SVG/1.1/DTD/svg11.dtd\">\n",
       "<svg xmlns=\"http://www.w3.org/2000/svg\" version=\"1.1\"\n",
       "     width=\"25mm\" height=\"25mm\" viewBox=\"0 0 1 1\">\n",
       "    <rect width=\"1\" height=\"1\" fill=\"#4F94CD\" stroke=\"none\"/>\n",
       "</svg>\n"
      ],
      "text/plain": [
       "RGB{N0f8}(0.31,0.58,0.804)"
      ]
     },
     "execution_count": 2,
     "metadata": {},
     "output_type": "execute_result"
    }
   ],
   "source": [
    "const char2digits = Dict('0'=>(0,0,0),\n",
    "    '1'=>(0,0,1),\n",
    "    '2'=>(0,1,0),\n",
    "    '3'=>(0,1,1),\n",
    "    '4'=>(1,0,0),\n",
    "    '5'=>(1,0,1),\n",
    "    '6'=>(1,1,0),\n",
    "    '7'=>(1,1,1),\n",
    "    '8'=>(0,0,1),\n",
    "    '9'=>(1,0,0,1))\n",
    "const on_color = colorant\"lightsteelblue\"\n",
    "const off_color = colorant\"steelblue3\""
   ]
  },
  {
   "cell_type": "code",
   "execution_count": 3,
   "id": "e0f4682a",
   "metadata": {},
   "outputs": [
    {
     "data": {
      "text/plain": [
       "block2img (generic function with 1 method)"
      ]
     },
     "execution_count": 3,
     "metadata": {},
     "output_type": "execute_result"
    }
   ],
   "source": [
    "function block2img(block, n::Int)\n",
    "    img = zeros(RGB{N0f8}, n, n)\n",
    "    len = n^2\n",
    "    i = 1\n",
    "    j = 1\n",
    "    while i<len\n",
    "        digits = RGB{N0f8}.(char2digits[block[j]])\n",
    "        j+=1\n",
    "        maxsize = min(size(digits,1), len-i)\n",
    "        digits = digits[1:maxsize]\n",
    "        img[i:i+maxsize-1] .= digits\n",
    "        i+=maxsize\n",
    "    end\n",
    "    return img\n",
    "end"
   ]
  },
  {
   "cell_type": "code",
   "execution_count": 4,
   "id": "5a2a2eab",
   "metadata": {},
   "outputs": [
    {
     "data": {
      "text/plain": [
       "fileReader (generic function with 1 method)"
      ]
     },
     "execution_count": 4,
     "metadata": {},
     "output_type": "execute_result"
    }
   ],
   "source": [
    "@resumable function fileReader()\n",
    "    file = open(\"pi-million.txt\",\"r\")\n",
    "    while !eof(file)\n",
    "        i = read(file, Char)\n",
    "        @yield i\n",
    "    end\n",
    "    close(file)\n",
    "end"
   ]
  },
  {
   "cell_type": "code",
   "execution_count": 6,
   "id": "d83af9f9",
   "metadata": {},
   "outputs": [
    {
     "data": {
      "text/plain": [
       "style (generic function with 1 method)"
      ]
     },
     "execution_count": 6,
     "metadata": {},
     "output_type": "execute_result"
    }
   ],
   "source": [
    "function style(img::Matrix{RGB{N0f8}})\n",
    "    colored = copy(img)\n",
    "    black = colorant\"black\"\n",
    "    white = colorant\"white\"\n",
    "    for ix in LinearIndices(colored)\n",
    "        if(colored[ix]==black)\n",
    "            colored[ix] = off_color\n",
    "        else\n",
    "            colored[ix] = on_color\n",
    "        end\n",
    "    end\n",
    "    return imresize(colored, (200, 200), method=BSpline(Constant()))\n",
    "end"
   ]
  },
  {
   "cell_type": "code",
   "execution_count": 7,
   "id": "2d9dcb21",
   "metadata": {},
   "outputs": [
    {
     "data": {
      "text/plain": [
       "search (generic function with 1 method)"
      ]
     },
     "execution_count": 7,
     "metadata": {},
     "output_type": "execute_result"
    }
   ],
   "source": [
    "function search(img::Matrix{RGB{N0f8}})\n",
    "    n = size(img, 1)\n",
    "    len = n*n\n",
    "    charlen = convert(Int, ceil(len/3))\n",
    "    iter = fileReader()\n",
    "    chars = [iter() for _ in 1:charlen]\n",
    "    video = []\n",
    "    while true\n",
    "        value = block2img(chars,n)\n",
    "        #push!(video, imresize(value, (200, 200), method=BSpline(Constant())))\n",
    "        push!(video, style(value))\n",
    "        if(value == finding)\n",
    "            break;\n",
    "        end\n",
    "        popfirst!(chars)\n",
    "        newchar = iter()\n",
    "        if(isnothing(newchar)) \n",
    "            return \"supersad\"\n",
    "        end\n",
    "        push!(chars, iter())\n",
    "    end\n",
    "    lastblock = video[size(video, 1)]\n",
    "    for _ in 1:30\n",
    "        push!(video, lastblock)\n",
    "    end\n",
    "    video = cat(video..., dims=3)\n",
    "    ImageMagick.save(\"test.gif\", video, fps=24)\n",
    "end"
   ]
  },
  {
   "cell_type": "code",
   "execution_count": 5,
   "id": "4a68a567",
   "metadata": {},
   "outputs": [
    {
     "data": {
      "image/png": "[encoded data removed]",
      "text/plain": [
       "3×3 Array{RGB{N0f8},2} with eltype RGB{N0f8}:\n",
       " RGB{N0f8}(0.0,0.0,0.0)  RGB{N0f8}(0.0,0.0,0.0)  RGB{N0f8}(0.0,0.0,0.0)\n",
       " RGB{N0f8}(1.0,1.0,1.0)  RGB{N0f8}(0.0,0.0,0.0)  RGB{N0f8}(1.0,1.0,1.0)\n",
       " RGB{N0f8}(0.0,0.0,0.0)  RGB{N0f8}(0.0,0.0,0.0)  RGB{N0f8}(0.0,0.0,0.0)"
      ]
     },
     "execution_count": 5,
     "metadata": {},
     "output_type": "execute_result"
    }
   ],
   "source": [
    "finding = RGB.([0 0 0;\n",
    "     1 0 1;\n",
    "     0 0 0])"
   ]
  },
  {
   "cell_type": "code",
   "execution_count": 8,
   "id": "06e1be71",
   "metadata": {},
   "outputs": [],
   "source": [
    "search(finding)"
   ]
  },
  {
   "cell_type": "code",
   "execution_count": null,
   "id": "bb6df864",
   "metadata": {},
   "outputs": [],
   "source": []
  }
 ],
 "metadata": {
  "@webio": {
   "lastCommId": null,
   "lastKernelId": null
  },
  "kernelspec": {
   "display_name": "Julia 1.7.2",
   "language": "julia",
   "name": "julia-1.7"
  },
  "language_info": {
   "file_extension": ".jl",
   "mimetype": "application/julia",
   "name": "julia",
   "version": "1.7.2"
  }
 },
 "nbformat": 4,
 "nbformat_minor": 5
}
