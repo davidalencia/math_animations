{
 "cells": [
  {
   "cell_type": "code",
   "execution_count": 40,
   "id": "6693ff9a",
   "metadata": {},
   "outputs": [
    {
     "name": "stdout",
     "output_type": "stream",
     "text": [
      "\u001b[32m\u001b[1m      Status\u001b[22m\u001b[39m `~/Documents/projects/math_animations/roses/Project.toml`\n",
      " \u001b[90m [d6d074c3] \u001b[39mVideoIO v1.0.1\n",
      " \u001b[90m [0f1e0344] \u001b[39mWebIO v0.8.17\n"
     ]
    }
   ],
   "source": [
    "] st"
   ]
  },
  {
   "cell_type": "code",
   "execution_count": 2,
   "id": "0c1b877c",
   "metadata": {},
   "outputs": [
    {
     "data": {
      "text/plain": [
       "Luxor"
      ]
     },
     "execution_count": 2,
     "metadata": {},
     "output_type": "execute_result"
    }
   ],
   "source": []
  },
  {
   "cell_type": "code",
   "execution_count": 1,
   "id": "bf68ef0a",
   "metadata": {},
   "outputs": [
    {
     "data": {
      "application/vnd.webio.node+json": {
       "children": [],
       "instanceArgs": {
        "namespace": "html",
        "tag": "div"
       },
       "nodeType": "DOM",
       "props": {},
       "type": "node"
      },
      "text/html": [
       "<div style=\"padding: 1em; background-color: #f8d6da; border: 1px solid #f5c6cb; font-weight: bold;\">\n",
       "<p>The WebIO Jupyter extension was not detected. See the\n",
       "<a href=\"https://juliagizmos.github.io/WebIO.jl/latest/providers/ijulia/\" target=\"_blank\">\n",
       "    WebIO Jupyter integration documentation\n",
       "</a>\n",
       "for more information.\n",
       "</div>\n"
      ],
      "text/plain": [
       "WebIO._IJuliaInit()"
      ]
     },
     "metadata": {
      "application/vnd.webio.node+json": {
       "kernelId": "c0e2662d-ac8a-4475-94dd-448ff17832e5"
      }
     },
     "output_type": "display_data"
    }
   ],
   "source": [
    "using ResumableFunctions\n",
    "using Javis, Animations"
   ]
  },
  {
   "cell_type": "code",
   "execution_count": 2,
   "id": "32d7c44b",
   "metadata": {},
   "outputs": [
    {
     "data": {
      "text/plain": [
       "reduceDenominator (generic function with 1 method)"
      ]
     },
     "execution_count": 2,
     "metadata": {},
     "output_type": "execute_result"
    }
   ],
   "source": [
    "function reduceDenominator(numerator::Number, denominator::Number)::Number \n",
    "    function rec(a::Number, b::Number)::Number\n",
    "        return b>0 ? rec(b, a % b) : a;\n",
    "    end\n",
    "    return denominator / rec(numerator, denominator);\n",
    "end"
   ]
  },
  {
   "cell_type": "code",
   "execution_count": 3,
   "id": "931cc958",
   "metadata": {},
   "outputs": [
    {
     "data": {
      "text/plain": [
       "rose (generic function with 1 method)"
      ]
     },
     "execution_count": 3,
     "metadata": {},
     "output_type": "execute_result"
    }
   ],
   "source": [
    "@resumable function rose(n, d; step=0.1, a=1)\n",
    "    for i in 0:step:(reduceDenominator(n, d)*π)\n",
    "        r = a * cos(n / d * i);\n",
    "        x = r * cos(i);\n",
    "        y = r * sin(i);\n",
    "        @yield [x, y];\n",
    "    end\n",
    "end"
   ]
  },
  {
   "cell_type": "code",
   "execution_count": 10,
   "id": "a05e18fe",
   "metadata": {},
   "outputs": [
    {
     "data": {
      "text/plain": [
       "ground (generic function with 1 method)"
      ]
     },
     "execution_count": 10,
     "metadata": {},
     "output_type": "execute_result"
    }
   ],
   "source": [
    "function ground(args...)\n",
    "    background(\"black\")\n",
    "    sethue(\"white\")\n",
    "end"
   ]
  },
  {
   "cell_type": "code",
   "execution_count": 31,
   "id": "8a3ba5a5",
   "metadata": {},
   "outputs": [
    {
     "data": {
      "text/plain": [
       "circle_with_color (generic function with 1 method)"
      ]
     },
     "execution_count": 31,
     "metadata": {},
     "output_type": "execute_result"
    }
   ],
   "source": [
    "function circle_with_color(pos, radius)\n",
    "    blendgoldmagenta = blend(Point(-100, 0), Point(100, 0), \"gold\", \"magenta\")\n",
    "    setblend(blendgoldmagenta)\n",
    "    circle(pos, radius, :fill)\n",
    "    return pos\n",
    "end"
   ]
  },
  {
   "cell_type": "code",
   "execution_count": 32,
   "id": "f19490ac",
   "metadata": {},
   "outputs": [
    {
     "data": {
      "text/plain": [
       "path! (generic function with 1 method)"
      ]
     },
     "execution_count": 32,
     "metadata": {},
     "output_type": "execute_result"
    }
   ],
   "source": [
    "function path!(points, pos)\n",
    "    if(length(points)>0)\n",
    "        if(! (last(points)==pos))\n",
    "            push!(points, pos) # add pos to points\n",
    "        end\n",
    "    else\n",
    "        push!(points, pos) \n",
    "    end\n",
    "    blendgoldmagenta = blend(Point(-100, 0), Point(100, 0), \"gold\", \"magenta\")\n",
    "    setblend(blendgoldmagenta)\n",
    "    drawbezierpath(makebezierpath(points), :stroke; close=false) \n",
    "end"
   ]
  },
  {
   "cell_type": "code",
   "execution_count": 33,
   "id": "35530545",
   "metadata": {},
   "outputs": [
    {
     "ename": "LoadError",
     "evalue": "MethodError: no method matching get_position(::Tuple{Point, Point})\n\u001b[0mClosest candidates are:\n\u001b[0m  get_position(\u001b[91m::Javis.Layer\u001b[39m) at ~/.julia/packages/Javis/TCcr1/src/layers.jl:187\n\u001b[0m  get_position(\u001b[91m::Point\u001b[39m) at ~/.julia/packages/Javis/TCcr1/src/object_values.jl:17\n\u001b[0m  get_position(\u001b[91m::Transformation\u001b[39m) at ~/.julia/packages/Javis/TCcr1/src/object_values.jl:18\n\u001b[0m  ...",
     "output_type": "error",
     "traceback": [
      "MethodError: no method matching get_position(::Tuple{Point, Point})\n\u001b[0mClosest candidates are:\n\u001b[0m  get_position(\u001b[91m::Javis.Layer\u001b[39m) at ~/.julia/packages/Javis/TCcr1/src/layers.jl:187\n\u001b[0m  get_position(\u001b[91m::Point\u001b[39m) at ~/.julia/packages/Javis/TCcr1/src/object_values.jl:17\n\u001b[0m  get_position(\u001b[91m::Transformation\u001b[39m) at ~/.julia/packages/Javis/TCcr1/src/object_values.jl:18\n\u001b[0m  ...",
      "",
      "Stacktrace:",
      "  [1] pos(x::Tuple{Point, Point})",
      "    @ Javis ~/.julia/packages/Javis/TCcr1/src/object_values.jl:40",
      "  [2] circle_with_color(p::Point, radius::Int64)",
      "    @ Main ./In[31]:5",
      "  [3] (::var\"#82#85\")(::Video, ::Vararg{Any})",
      "    @ Main ./In[33]:19",
      "  [4] draw_object(object::Object, video::Video, frame::Int64, origin_matrix::Matrix{Float64}, layer_frames::Nothing)",
      "    @ Javis ~/.julia/packages/Javis/TCcr1/src/Javis.jl:658",
      "  [5] macro expansion",
      "    @ ~/.julia/packages/Javis/TCcr1/src/Javis.jl:408 [inlined]",
      "  [6] macro expansion",
      "    @ ~/.julia/packages/Luxor/Oftfe/src/basics.jl:526 [inlined]",
      "  [7] render_objects(objects::Vector{Javis.AbstractObject}, video::Video, frame::Int64; layer_frames::Nothing)",
      "    @ Javis ~/.julia/packages/Javis/TCcr1/src/Javis.jl:407",
      "  [8] render_objects",
      "    @ ~/.julia/packages/Javis/TCcr1/src/Javis.jl:380 [inlined]",
      "  [9] get_javis_frame(video::Video, objects::Vector{Javis.AbstractObject}, frame::Int64; layers::Vector{Javis.AbstractObject})",
      "    @ Javis ~/.julia/packages/Javis/TCcr1/src/Javis.jl:601",
      " [10] _postprocess(video::Video, objects::Vector{Javis.AbstractObject}, frame::Int64; layers::Vector{Javis.AbstractObject}, frames_memory::Dict{Int64, Matrix{ColorTypes.RGB{FixedPointNumbers.N0f8}}}, postprocess_frame::Function, frame_template::Matrix{ColorTypes.RGB{FixedPointNumbers.N0f8}}, filecounter::Int64, frames::Vector{Int64}, rescale_factor::Float64)",
      "    @ Javis ~/.julia/packages/Javis/TCcr1/src/util.jl:374",
      " [11] macro expansion",
      "    @ ~/.julia/packages/Javis/TCcr1/src/Javis.jl:310 [inlined]",
      " [12] macro expansion",
      "    @ ~/.julia/packages/ProgressMeter/sN2xr/src/ProgressMeter.jl:938 [inlined]",
      " [13] render(video::Video; framerate::Int64, pathname::String, liveview::Bool, streamconfig::Nothing, tempdirectory::String, ffmpeg_loglevel::String, rescale_factor::Float64, postprocess_frames_flow::typeof(identity), postprocess_frame::typeof(Javis.default_postprocess))",
      "    @ Javis ~/.julia/packages/Javis/TCcr1/src/Javis.jl:309",
      " [14] top-level scope",
      "    @ In[33]:28",
      " [15] eval",
      "    @ ./boot.jl:373 [inlined]",
      " [16] include_string(mapexpr::typeof(REPL.softscope), mod::Module, code::String, filename::String)",
      "    @ Base ./loading.jl:1196"
     ]
    }
   ],
   "source": [
    "# the safest option is to declare the Video first all the time\n",
    "begin\n",
    "    #video = Video(720, 1080)\n",
    "    video = Video(500, 500)\n",
    "    \n",
    "    # the points that describe our car\n",
    "    points = [Point(v...) for v in rose(5,13; a=200, step=0.001)]\n",
    "    npoints = length(points)\n",
    "\n",
    "    Background(1:360, ground)\n",
    "    \n",
    "    # generate the bezier path\n",
    "    bezierpath = makebezierpath(points)\n",
    "    bezierpathpoly = bezierpathtopoly(bezierpath)\n",
    "    \n",
    "    \n",
    "    # let a red circle appear and follow the bezier path polygon\n",
    "    path = Point[]\n",
    "    red_circle = Object(10:300, (args...) -> circle_with_color(O, 7), first(points))\n",
    "    act!(red_circle, Action(1:20, appear(:fade)))\n",
    "    act!(red_circle, Action(21:270, sineio(), follow_path(bezierpathpoly .- first(points))))\n",
    "    act!(red_circle, Action(271:290, disappear(:fade)))\n",
    "    \n",
    "    curve = Object(20:360, (args...)->path!(path, pos(red_circle)))\n",
    "    act!(curve, Action(320:340, disappear(:fade)))\n",
    "\n",
    "    \n",
    "    render(video, pathname=\"circle.gif\")\n",
    "    display(MIME(\"text/html\"), \"\"\"<img src=\"circle.gif?$(time())\">\"\"\")\n",
    "end"
   ]
  },
  {
   "cell_type": "code",
   "execution_count": null,
   "id": "90fabbbc",
   "metadata": {},
   "outputs": [],
   "source": []
  }
 ],
 "metadata": {
  "@webio": {
   "lastCommId": "3ebe11cac7b64dedad74a62f65b25eab",
   "lastKernelId": "c0e2662d-ac8a-4475-94dd-448ff17832e5"
  },
  "kernelspec": {
   "display_name": "Julia 1.7.2",
   "language": "julia",
   "name": "julia-1.7"
  },
  "language_info": {
   "file_extension": ".jl",
   "mimetype": "application/julia",
   "name": "julia",
   "version": "1.7.2"
  }
 },
 "nbformat": 4,
 "nbformat_minor": 5
}
