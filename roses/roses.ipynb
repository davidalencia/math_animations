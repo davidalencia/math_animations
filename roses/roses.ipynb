{
 "cells": [
  {
   "cell_type": "code",
   "execution_count": 40,
   "id": "6693ff9a",
   "metadata": {},
   "outputs": [
    {
     "name": "stdout",
     "output_type": "stream",
     "text": [
      "\u001b[32m\u001b[1m      Status\u001b[22m\u001b[39m `~/Documents/projects/math_animations/roses/Project.toml`\n",
      " \u001b[90m [d6d074c3] \u001b[39mVideoIO v1.0.1\n",
      " \u001b[90m [0f1e0344] \u001b[39mWebIO v0.8.17\n"
     ]
    }
   ],
   "source": [
    "] st"
   ]
  },
  {
   "cell_type": "code",
   "execution_count": 2,
   "id": "b774e82c",
   "metadata": {},
   "outputs": [
    {
     "data": {
      "text/plain": [
       "Luxor"
      ]
     },
     "execution_count": 2,
     "metadata": {},
     "output_type": "execute_result"
    }
   ],
   "source": [
    "parentmodule(drawbezierpath)"
   ]
  },
  {
   "cell_type": "code",
   "execution_count": 57,
   "id": "bf68ef0a",
   "metadata": {},
   "outputs": [],
   "source": [
    "using ResumableFunctions\n",
    "using Javis, Animations\n",
    "using Colors"
   ]
  },
  {
   "cell_type": "code",
   "execution_count": 2,
   "id": "32d7c44b",
   "metadata": {},
   "outputs": [
    {
     "data": {
      "text/plain": [
       "reduceDenominator (generic function with 1 method)"
      ]
     },
     "execution_count": 2,
     "metadata": {},
     "output_type": "execute_result"
    }
   ],
   "source": [
    "function reduceDenominator(numerator::Number, denominator::Number)::Number \n",
    "    function rec(a::Number, b::Number)::Number\n",
    "        return b>0 ? rec(b, a % b) : a;\n",
    "    end\n",
    "    return denominator / rec(numerator, denominator);\n",
    "end"
   ]
  },
  {
   "cell_type": "code",
   "execution_count": 3,
   "id": "931cc958",
   "metadata": {},
   "outputs": [
    {
     "data": {
      "text/plain": [
       "rose (generic function with 1 method)"
      ]
     },
     "execution_count": 3,
     "metadata": {},
     "output_type": "execute_result"
    }
   ],
   "source": [
    "@resumable function rose(n, d; step=0.1, a=1, pitimes=1)\n",
    "    for i in 0:step:(reduceDenominator(n, d)*π*pitimes)\n",
    "        r = a * cos(n / d * i);\n",
    "        x = r * cos(i);\n",
    "        y = r * sin(i);\n",
    "        @yield [x, y];\n",
    "    end\n",
    "end"
   ]
  },
  {
   "cell_type": "code",
   "execution_count": 4,
   "id": "a05e18fe",
   "metadata": {},
   "outputs": [
    {
     "data": {
      "text/plain": [
       "ground (generic function with 1 method)"
      ]
     },
     "execution_count": 4,
     "metadata": {},
     "output_type": "execute_result"
    }
   ],
   "source": [
    "function ground(args...)\n",
    "    background(\"black\")\n",
    "    sethue(\"white\")\n",
    "end"
   ]
  },
  {
   "cell_type": "code",
   "execution_count": 5,
   "id": "8a3ba5a5",
   "metadata": {},
   "outputs": [
    {
     "data": {
      "text/plain": [
       "circle_with_blend (generic function with 1 method)"
      ]
     },
     "execution_count": 5,
     "metadata": {},
     "output_type": "execute_result"
    }
   ],
   "source": [
    "function circle_with_blend(pos, radius, colorblend)\n",
    "    setblend(colorblend)\n",
    "    circle(pos, radius, :fill)\n",
    "    return pos\n",
    "end"
   ]
  },
  {
   "cell_type": "code",
   "execution_count": 6,
   "id": "b54ff6c2",
   "metadata": {},
   "outputs": [
    {
     "data": {
      "text/plain": [
       "circle_with_color (generic function with 1 method)"
      ]
     },
     "execution_count": 6,
     "metadata": {},
     "output_type": "execute_result"
    }
   ],
   "source": [
    "function circle_with_color(pos, radius, color)\n",
    "    sethue(color)\n",
    "    circle(pos, radius, :fill)\n",
    "    return pos\n",
    "end"
   ]
  },
  {
   "cell_type": "code",
   "execution_count": 68,
   "id": "9c53c37d",
   "metadata": {},
   "outputs": [
    {
     "data": {
      "text/plain": [
       "path! (generic function with 1 method)"
      ]
     },
     "execution_count": 68,
     "metadata": {},
     "output_type": "execute_result"
    }
   ],
   "source": [
    "function path!(points, pos, colorblend)\n",
    "    if(length(points)>0)\n",
    "        if(! (last(points)==pos))\n",
    "            push!(points, pos) # add pos to points\n",
    "        end\n",
    "    else\n",
    "        push!(points, pos) \n",
    "    end\n",
    "    setblend(colorblend)\n",
    "    setline(3)\n",
    "    drawbezierpath(makebezierpath(points), :stroke; close=false) \n",
    "end"
   ]
  },
  {
   "cell_type": "code",
   "execution_count": 69,
   "id": "e4daf091",
   "metadata": {},
   "outputs": [
    {
     "name": "stderr",
     "output_type": "stream",
     "text": [
      "\u001b[32mRendering frames... 100%|████████████████████████████████| Time: 0:00:07\u001b[39m\n"
     ]
    },
    {
     "data": {
      "text/html": [
       "<img src=\"blue_rose_7-4.gif?1.651449777290906e9\">"
      ]
     },
     "metadata": {},
     "output_type": "display_data"
    }
   ],
   "source": [
    "# the safest option is to declare the Video first all the time\n",
    "begin\n",
    "    video = Video(720, 1080)\n",
    "    n=7\n",
    "    d=4\n",
    "    colora = \"lightblue1\"\n",
    "    colorb = \"gold\"\n",
    "    colorblend = blend(Point(-100, 0), Point(100, 0), colora, colorb)\n",
    "    #video = Video(500, 500)\n",
    "    \n",
    "    # the points that describe our car\n",
    "    points = [Point(v...) for v in rose(n,d; a=200, step=0.00001, pitimes=2)]\n",
    "    npoints = length(points)\n",
    "\n",
    "    Background(1:360, ground)\n",
    "    \n",
    "    # generate the bezier path\n",
    "    bezierpath = makebezierpath(points)\n",
    "    bezierpathpoly = bezierpathtopoly(bezierpath)\n",
    "    \n",
    "    \n",
    "    # let a red circle appear and follow the bezier path polygon\n",
    "    path = Point[]\n",
    "    red_circle = Object(10:360, (args...) -> circle_with_blend(O, 7, colorblend), first(points))\n",
    "    act!(red_circle, Action(1:20, appear(:fade)))\n",
    "    act!(red_circle, Action(21:290, sineio(), follow_path(bezierpathpoly .- first(points))))\n",
    "    act!(red_circle, Action(291:300, disappear(:fade)))\n",
    "\n",
    "    \n",
    "    curve = Object(20:360, (args...)->path!(path, pos(red_circle), colorblend))\n",
    "    act!(curve, Action(320:340, disappear(:fade)))\n",
    "\n",
    "    \n",
    "    name = \"rose_$colora-colorb_$n-$d.gif\"\n",
    "    render(video, pathname=name)\n",
    "    display(MIME(\"text/html\"), \"\"\"<img src=\"$name?$(time())\">\"\"\")\n",
    "end"
   ]
  },
  {
   "cell_type": "code",
   "execution_count": null,
   "id": "a9b4075c",
   "metadata": {},
   "outputs": [],
   "source": []
  }
 ],
 "metadata": {
  "@webio": {
   "lastCommId": "c64040ae3bd548ddba919bbd65e9ff78",
   "lastKernelId": "c0e2662d-ac8a-4475-94dd-448ff17832e5"
  },
  "kernelspec": {
   "display_name": "Julia 1.7.2",
   "language": "julia",
   "name": "julia-1.7"
  },
  "language_info": {
   "file_extension": ".jl",
   "mimetype": "application/julia",
   "name": "julia",
   "version": "1.7.2"
  }
 },
 "nbformat": 4,
 "nbformat_minor": 5
}
